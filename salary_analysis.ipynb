{
 "cells": [
  {
   "cell_type": "markdown",
   "metadata": {},
   "source": [
    "# Import req libraries"
   ]
  },
  {
   "cell_type": "code",
   "execution_count": null,
   "metadata": {},
   "outputs": [],
   "source": [
    "import pandas as pd\n",
    "import glob\n",
    "import datetime\n",
    "from matplotlib import pyplot as plt\n",
    "import tabula as tb"
   ]
  },
  {
   "cell_type": "markdown",
   "metadata": {},
   "source": [
    "# Dolar histórico"
   ]
  },
  {
   "cell_type": "code",
   "execution_count": null,
   "metadata": {},
   "outputs": [],
   "source": [
    "# Search for \"dolar histórico\" in a website\n",
    "dolar_historico = pd.read_html('http://estudiodelamo.com/cotizacion-historica-dolar-peso-argentina/')\n",
    "\n",
    "# dolar_historico from pandas method read_html will be a list with several dataframes.\n",
    "# We want to keep the 2nd element of the list, which is the desired df\n",
    "dolar_blue_df = dolar_historico[1]\n",
    "\n",
    "dolar_blue_df.tail()"
   ]
  },
  {
   "cell_type": "code",
   "execution_count": null,
   "metadata": {},
   "outputs": [],
   "source": [
    "# Create column names for dolar_blue_df, fix dtypes and drop null values\n",
    "\n",
    "cols = ['Year', 'drop', '01', '02', '03', '04', '05', '06', '07', '08', '09', '10', '11', '12']\n",
    "dolar_blue_df.columns = cols\n",
    "dolar_blue_df.drop(columns='drop', inplace=True)\n",
    "dolar_blue_df.Year = dolar_blue_df.Year.astype(str)\n",
    "\n",
    "# Melt df to unpivot df from wide to long format\n",
    "\n",
    "dolar_blue_df = dolar_blue_df.melt(id_vars='Year', var_name='Month', value_name='exchange_rate')\n",
    "dolar_blue_df.dropna(inplace=True)\n",
    "\n",
    "# Fix $xxx,yy format to xxx.yy where x,y = numbers\n",
    "\n",
    "dolar_blue_df['exchange_rate'] = dolar_blue_df['exchange_rate'].apply(lambda x: float(x[1:].replace(',','.')))\n",
    "\n",
    "# Check it's not missing latest values\n",
    "\n",
    "dolar_blue_df[dolar_blue_df['Year'] == '2022'].head()"
   ]
  },
  {
   "cell_type": "markdown",
   "metadata": {},
   "source": [
    "# Salary files"
   ]
  },
  {
   "cell_type": "code",
   "execution_count": null,
   "metadata": {},
   "outputs": [],
   "source": [
    "files_list = glob.glob(\"recibos/*\")\n",
    "payroll_list = [tb.read_pdf_with_template(\n",
    "                file\n",
    "                , pages='1'\n",
    "                , template_path='recibo-short-table.json') for file in files_list]\n",
    "\n",
    "# payroll_list will return a list of dataframes\n",
    "# payroll_list[i][0]['Fecha liquidación'] = 'dd-mm-yy'\n",
    "# payroll_list[i][0]['Categoría'][3] = 'xxx,yy'\n",
    "\n",
    "salary_df = pd.DataFrame({'Year' : [payroll_list[i][0]['Fecha liquidación'][1][-4:] for i, v in enumerate(payroll_list)]\n",
    "                , 'Month': [payroll_list[i][0]['Fecha liquidación'][1][3:5] for i, v in enumerate(payroll_list)]\n",
    "                , 'Salary_ARS' : [float(payroll_list[i][0]['Categoría'][3][-10:-3])*1000 for i, v in enumerate(payroll_list)]}\n",
    "                , index=[i for i, v in enumerate(payroll_list)])\n",
    "\n",
    "salary_df.head()"
   ]
  },
  {
   "cell_type": "markdown",
   "metadata": {},
   "source": [
    "##### Merge 'salary_df' and 'dolar_blue_df' into one 'df'"
   ]
  },
  {
   "cell_type": "code",
   "execution_count": null,
   "metadata": {},
   "outputs": [],
   "source": [
    "df = pd.merge(left=salary_df, right=dolar_blue_df, on=['Year', 'Month'], how='left')\n",
    "df.head()"
   ]
  },
  {
   "cell_type": "code",
   "execution_count": null,
   "metadata": {},
   "outputs": [],
   "source": [
    "new_date_format='%Y%m'\n",
    "old_date_format='%Y%m'\n",
    "col = \"fecha\"\n",
    "\n",
    "df[\"YearMonth\"] = df['Year'] + df['Month']\n",
    "df[\"YearMonth\"] = pd.to_datetime(df[\"YearMonth\"], format=old_date_format).dt.strftime(new_date_format)\n",
    "\n",
    "df.head()"
   ]
  },
  {
   "cell_type": "markdown",
   "metadata": {},
   "source": [
    "Working on the USD Salary and adjustement for inflation"
   ]
  },
  {
   "cell_type": "code",
   "execution_count": null,
   "metadata": {},
   "outputs": [],
   "source": [
    "df['Salary_USD'] = df['Salary_ARS']/df['exchange_rate']\n",
    "\n",
    "df = df.sort_values(by='YearMonth', ascending=True)\n",
    "\n",
    "monthly_working_hours = 160\n",
    "\n",
    "df['Hourly_rate'] = df['Salary_USD']/monthly_working_hours\n",
    "\n",
    "df.head()"
   ]
  },
  {
   "cell_type": "markdown",
   "metadata": {},
   "source": [
    "##### Create inflation df"
   ]
  },
  {
   "cell_type": "code",
   "execution_count": null,
   "metadata": {},
   "outputs": [],
   "source": [
    "inflation_df = pd.read_excel('https://www.indec.gob.ar/ftp/cuadros/economia/sh_ipc_aperturas.xls', header=5, nrows=3, index_col='Región GBA')\n",
    "inflation_df.dropna(inplace=True)\n",
    "inflation_df = inflation_df.transpose()\n",
    "inflation_df = inflation_df.reset_index()\n",
    "inflation_df.columns = ['Date', 'Inflation_pct']\n",
    "new_date_format='%Y%m'\n",
    "old_date_format='%Y-%m-%d'\n",
    "\n",
    "inflation_df[\"YearMonth\"] = pd.to_datetime(inflation_df[\"Date\"], format=old_date_format).dt.strftime(new_date_format)\n",
    "inflation_df = inflation_df[['YearMonth', 'Inflation_pct']]\n",
    "inflation_df.head()"
   ]
  },
  {
   "cell_type": "code",
   "execution_count": null,
   "metadata": {},
   "outputs": [],
   "source": [
    "df = df.merge(inflation_df, on='YearMonth')\n",
    "\n",
    "# Calculate accumulated\n",
    "acumular = 0\n",
    "inflation_accumulated = []\n",
    "for index, row in df.iterrows():\n",
    "    acumular+=row['Inflation_pct']\n",
    "    inflation_accumulated.append(acumular)\n",
    "\n",
    "inflation_accumulated = [round(i/100,3) for i in inflation_accumulated]\n",
    "\n",
    "df['Inflation_accum'] = inflation_accumulated\n",
    "\n",
    "df.head()"
   ]
  },
  {
   "cell_type": "code",
   "execution_count": null,
   "metadata": {},
   "outputs": [],
   "source": [
    "df['Salary_ARS_Real'] = round(df['Salary_ARS']*(1 - df['Inflation_accum']),0)\n",
    "\n",
    "df.head()"
   ]
  },
  {
   "cell_type": "markdown",
   "metadata": {},
   "source": [
    "Plot and export:\n",
    "---\n",
    "* USD salary evolution plot\n",
    "* Salary adjusted for inflation plot\n",
    "* Dataframe"
   ]
  },
  {
   "cell_type": "code",
   "execution_count": null,
   "metadata": {},
   "outputs": [],
   "source": [
    "plt.figure(figsize=(12,5))\n",
    "plt.title(\"Salario USD en el tiempo\")\n",
    "plt.axhline(y=df['Salary_USD'].min(), color='r', linestyle='-')\n",
    "plt.axhline(y=df['Salary_USD'].max(), color='r', linestyle='-')\n",
    "plt.axhline(y=df['Salary_USD'].mean(), color='g', linestyle='-')\n",
    "\n",
    "x = df['YearMonth']\n",
    "y = df['Salary_USD']\n",
    "\n",
    "mark0 = [(row['YearMonth'], row['Salary_USD']) for index, row in df.iterrows() if row['Salary_USD'] <= df['Salary_USD'].mean()]\n",
    "\n",
    "x0 = [i[0] for i in mark0]\n",
    "y0 = [i[1] for i in mark0]\n",
    "\n",
    "mark1 = [(row['YearMonth'], row['Salary_USD']) for index, row in df.iterrows() if row['Salary_USD'] > df['Salary_USD'].mean()]\n",
    "\n",
    "x1 = [i[0] for i in mark1]\n",
    "y1 = [i[1] for i in mark1]\n",
    "\n",
    "plt.plot(x, y, color='blue')\n",
    "plt.scatter(x0, y0, marker='x', color='r')\n",
    "plt.scatter(x1, y1, marker='o', color='g')\n",
    "\n",
    "plt.savefig('report/salary_usd.jpeg')\n",
    "plt.show()"
   ]
  },
  {
   "cell_type": "markdown",
   "metadata": {},
   "source": [
    "Plot Salary adjusted for Inflation"
   ]
  },
  {
   "cell_type": "code",
   "execution_count": null,
   "metadata": {},
   "outputs": [],
   "source": [
    "plt.figure(figsize=(12,5))\n",
    "plt.title(\"Salario real en pesos ajustado por inflacion\")\n",
    "plt.plot('YearMonth', 'Salary_ARS_Real', data=df)\n",
    "\n",
    "if (len(glob.glob('/report/salary_ars_adjusted_for_inflation.jpeg')) == 0):\n",
    "    plt.savefig('report/salary_ars_adjusted_for_inflation.jpeg')\n",
    "    print('fig saved')"
   ]
  },
  {
   "cell_type": "code",
   "execution_count": null,
   "metadata": {},
   "outputs": [],
   "source": [
    "df.to_csv('report/salary_analysis.csv', index=False)"
   ]
  }
 ],
 "metadata": {
  "kernelspec": {
   "display_name": "Python 3.9.7 64-bit",
   "language": "python",
   "name": "python3"
  },
  "language_info": {
   "codemirror_mode": {
    "name": "ipython",
    "version": 3
   },
   "file_extension": ".py",
   "mimetype": "text/x-python",
   "name": "python",
   "nbconvert_exporter": "python",
   "pygments_lexer": "ipython3",
   "version": "3.9.7"
  },
  "orig_nbformat": 4,
  "vscode": {
   "interpreter": {
    "hash": "63ecc97df54ac3dfd74f4905de61e9f5db20e2d87b16e104d5948006d2b85470"
   }
  }
 },
 "nbformat": 4,
 "nbformat_minor": 2
}
